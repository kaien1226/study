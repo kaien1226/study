{
 "cells": [
  {
   "cell_type": "markdown",
   "metadata": {},
   "source": [
    "<img src=\"https://img-blog.csdn.net/2018092916042238?watermark/2/text/aHR0cHM6Ly9ibG9nLmNzZG4ubmV0L2thaWVuMTIyNg==/font/5a6L5L2T/fontsize/400/fill/I0JBQkFCMA==/dissolve/70\" style=\"width:1000px;height:500px;float:left\">"
   ]
  },
  {
   "cell_type": "markdown",
   "metadata": {},
   "source": [
    "<font color=#8552a1 size= 6>\n",
    "  Opencv改变imshow窗口大小，窗口位置\n",
    "</font>\n",
    "\n",
    "<hr class=\"docutils\" />\n",
    "\n",
    "<table style=\"width:100%;border-collapse:collapse;background-color:white;\">\n",
    "    <tr style=\"background-color:rgba(30, 200,100, 0.8)\" >\n",
    "      <th> <font size= 5> Example  </font></th>\n",
    "    </tr>\n",
    "<table>"
   ]
  },
  {
   "cell_type": "code",
   "execution_count": 4,
   "metadata": {},
   "outputs": [],
   "source": [
    "import cv2\n",
    "\n",
    "img=cv2.imread(r'./timg.jpg')\n",
    "cv2.namedWindow(\"img\",0) # 设置成0，可以鼠标随意拖动窗口改变大小\n",
    "cv2.moveWindow(\"img\",1000,100) # 设置图像的位置\n",
    "cv2.resizeWindow(\"img\", 640, 480) # 设置窗口的尺寸\n",
    "cv2.imshow(\"img\",img)\n",
    "cv2.waitKey(0)\n",
    "cv2.destroyAllWindows() "
   ]
  },
  {
   "cell_type": "markdown",
   "metadata": {},
   "source": [
    "<table style=\"width:100%;border-collapse:collapse;background-color:white;\">\n",
    "    <tr style=\"background-color:rgba(255, 204, 51, 1.)\" >\n",
    "      <th> <font size= 5> Note </font></th>\n",
    "    </tr>\n",
    "<table>\n",
    " \n",
    "<blockquote><p><font size= 4>\n",
    " <p>\n",
    "cv2.waitKey(0) 括号中的值单位是ms\n",
    " <p>\n",
    "cv2.destroyAllWindows()  缺少这句jupyter将卡住，无反应。\n",
    "<p>\n",
    "    </font>\n",
    "</blockquote>"
   ]
  },
  {
   "cell_type": "markdown",
   "metadata": {},
   "source": [
    "<font color=#8552a1 size= 6>\n",
    "  opencv imshow函数显示一片白色原因\n",
    "</font>\n",
    "\n",
    "<hr class=\"docutils\" />\n",
    "\n",
    "<table style=\"width:100%;border-collapse:collapse;background-color:white;\">\n",
    "    <tr style=\"background-color:rgba(255, 204, 204, 0.8)\" >\n",
    "      <th> <font size= 5> Reason  </font></th>\n",
    "    </tr>\n",
    "<table>\n",
    "<blockquote><p><font size= 4>\n",
    "<p>\n",
    "opencv中imshow内部的参数类型可以分为两种。（1）当输入矩阵是uint8类型的时候，此时imshow显示图像的时候，会认为输入矩阵的范围在0-255之间。（2）如果imshow的参数是double类型的时候，那么imshow会认为输入矩阵的范围在0-1。\n",
    "<p>\n",
    "    </font>\n",
    "</blockquote>    \n",
    "\n",
    "\n",
    "<table style=\"width:100%;border-collapse:collapse;background-color:white;\">\n",
    "    <tr style=\"background-color:rgba(153, 204, 255, 0.8)\" >\n",
    "      <th> <font size= 5> Reason  </font></th>\n",
    "    </tr>\n",
    "<table>\n",
    "    \n",
    "<blockquote><p><font size= 4>\n",
    " <p>\n",
    "用numpy.astype()对数组类型进行转换。\n",
    " <p>\n",
    "    </font>\n",
    "</blockquote>\n",
    "\n",
    "<table style=\"width:100%;border-collapse:collapse;background-color:white;\">\n",
    "    <tr style=\"background-color:rgba(30, 200,100, 0.8)\" >\n",
    "      <th> <font size= 5> Example  </font></th>\n",
    "    </tr>\n",
    "<table>"
   ]
  },
  {
   "cell_type": "code",
   "execution_count": 5,
   "metadata": {},
   "outputs": [
    {
     "name": "stdout",
     "output_type": "stream",
     "text": [
      "[1 2 3]\n"
     ]
    }
   ],
   "source": [
    "import numpy as np\n",
    "a=np.array([1.11,2.22,3.33])  #数据类型转换用astype,数组长度不会变\n",
    "a=a.astype(np.int8)\n",
    "print(a)"
   ]
  },
  {
   "cell_type": "code",
   "execution_count": null,
   "metadata": {},
   "outputs": [],
   "source": []
  }
 ],
 "metadata": {
  "kernelspec": {
   "display_name": "Python 2",
   "language": "python",
   "name": "python2"
  },
  "language_info": {
   "codemirror_mode": {
    "name": "ipython",
    "version": 2
   },
   "file_extension": ".py",
   "mimetype": "text/x-python",
   "name": "python",
   "nbconvert_exporter": "python",
   "pygments_lexer": "ipython2",
   "version": "2.7.12"
  }
 },
 "nbformat": 4,
 "nbformat_minor": 2
}
