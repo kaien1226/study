{
 "cells": [
  {
   "cell_type": "markdown",
   "metadata": {},
   "source": [
    "<img src=\"https://img-blog.csdn.net/2018092916042238?watermark/2/text/aHR0cHM6Ly9ibG9nLmNzZG4ubmV0L2thaWVuMTIyNg==/font/5a6L5L2T/fontsize/400/fill/I0JBQkFCMA==/dissolve/70\" style=\"width:1000px;height:500px;float:left\">"
   ]
  },
  {
   "cell_type": "markdown",
   "metadata": {},
   "source": [
    "<font color=#8552a1 size= 6>\n",
    "  随机生成规定范围内的数组 \n",
    "</font>\n",
    "\n",
    "<hr class=\"docutils\" />\n",
    "\n",
    "<blockquote><p><font size= 4>\n",
    "numpy.random.randint(low, high=None, size=None, dtype='l')\n",
    "    </font>\n",
    "</blockquote>\n",
    "\n",
    "<table style=\"width:100%;border-collapse:collapse;background-color:white;\">\n",
    "    <tr style=\"background-color:rgba(30, 200,100, 0.8)\" >\n",
    "      <th> <font size= 5> Example  </font></th>\n",
    "    </tr>\n",
    "<table>"
   ]
  },
  {
   "cell_type": "code",
   "execution_count": 2,
   "metadata": {},
   "outputs": [
    {
     "data": {
      "text/plain": [
       "array([1, 1, 0, 1, 0, 1, 0, 1, 0, 0])"
      ]
     },
     "execution_count": 2,
     "metadata": {},
     "output_type": "execute_result"
    }
   ],
   "source": [
    "import numpy as np\n",
    "np.random.randint(2, size=10)"
   ]
  },
  {
   "cell_type": "code",
   "execution_count": 3,
   "metadata": {},
   "outputs": [
    {
     "data": {
      "text/plain": [
       "array([[0, 2, 0, 1],\n",
       "       [4, 2, 2, 4]])"
      ]
     },
     "execution_count": 3,
     "metadata": {},
     "output_type": "execute_result"
    }
   ],
   "source": [
    "np.random.randint(5, size=(2, 4))"
   ]
  },
  {
   "cell_type": "code",
   "execution_count": 18,
   "metadata": {},
   "outputs": [
    {
     "data": {
      "text/plain": [
       "2"
      ]
     },
     "execution_count": 18,
     "metadata": {},
     "output_type": "execute_result"
    }
   ],
   "source": [
    "np.random.randint(2,5)"
   ]
  },
  {
   "cell_type": "markdown",
   "metadata": {},
   "source": [
    "<font color=#8552a1 size= 6>\n",
    "  逐位比较数组取其大者 \n",
    "</font>\n",
    "\n",
    "<hr class=\"docutils\" />\n",
    "\n",
    "<blockquote><p><font size= 4>\n",
    "np.maximum：(X, Y, out=None) \n",
    "    </font>\n",
    "</blockquote>\n",
    "\n",
    "<table style=\"width:100%;border-collapse:collapse;background-color:white;\">\n",
    "    <tr style=\"background-color:rgba(30, 200,100, 0.8)\" >\n",
    "      <th> <font size= 5> Example  </font></th>\n",
    "    </tr>\n",
    "<table>"
   ]
  },
  {
   "cell_type": "code",
   "execution_count": 19,
   "metadata": {},
   "outputs": [
    {
     "data": {
      "text/plain": [
       "array([0, 0, 0, 1, 2])"
      ]
     },
     "execution_count": 19,
     "metadata": {},
     "output_type": "execute_result"
    }
   ],
   "source": [
    "np.maximum([-2, -1, 0, 1, 2], 0)"
   ]
  },
  {
   "cell_type": "code",
   "execution_count": 20,
   "metadata": {},
   "outputs": [
    {
     "data": {
      "text/plain": [
       "array([ 0, -1,  1,  3,  2])"
      ]
     },
     "execution_count": 20,
     "metadata": {},
     "output_type": "execute_result"
    }
   ],
   "source": [
    "np.maximum([-2, -1, 0, 1, 2], [0, -2, 1, 3, 2])"
   ]
  },
  {
   "cell_type": "markdown",
   "metadata": {},
   "source": [
    "<font color=#8552a1 size= 6>\n",
    "  将数组或矩阵中的元素从小到大排列，提取其对应的index(索引)输出\n",
    "</font>\n",
    "\n",
    "<hr class=\"docutils\" />\n",
    "\n",
    "<blockquote><p><font size= 4>\n",
    "numpy.argsort(a, axis=-1, kind='quicksort', order=None)\n",
    "    </font>\n",
    "</blockquote>\n",
    "\n",
    "<table style=\"width:100%;border-collapse:collapse;background-color:white;\">\n",
    "    <tr style=\"background-color:rgba(30, 200,100, 0.8)\" >\n",
    "      <th> <font size= 5> Example  </font></th>\n",
    "    </tr>\n",
    "<table>\n"
   ]
  },
  {
   "cell_type": "code",
   "execution_count": 6,
   "metadata": {},
   "outputs": [
    {
     "data": {
      "text/plain": [
       "array([3, 0, 2, 1, 4, 5])"
      ]
     },
     "execution_count": 6,
     "metadata": {},
     "output_type": "execute_result"
    }
   ],
   "source": [
    "import numpy as np\n",
    "x=np.array([1,4,3,-1,6,9])\n",
    "np.argsort(x,axis=-1)"
   ]
  },
  {
   "cell_type": "markdown",
   "metadata": {},
   "source": [
    "<font color=#8552a1 size= 6>\n",
    "  查看数组中成员的真假\n",
    "</font>\n",
    "\n",
    "<hr class=\"docutils\" />\n",
    "\n",
    "<blockquote><p><font size= 4>\n",
    "numpy.isnan()\n",
    "    </font>\n",
    "</blockquote>\n",
    "\n",
    "<table style=\"width:100%;border-collapse:collapse;background-color:white;\">\n",
    "    <tr style=\"background-color:rgba(30, 200,100, 0.8)\" >\n",
    "      <th> <font size= 5> Example  </font></th>\n",
    "    </tr>\n",
    "<table>"
   ]
  },
  {
   "cell_type": "code",
   "execution_count": 3,
   "metadata": {},
   "outputs": [
    {
     "name": "stderr",
     "output_type": "stream",
     "text": [
      "/home/zhengyuanbo/.local/lib/python2.7/site-packages/ipykernel_launcher.py:2: RuntimeWarning: invalid value encountered in log\n",
      "  \n",
      "/home/zhengyuanbo/.local/lib/python2.7/site-packages/ipykernel_launcher.py:2: RuntimeWarning: divide by zero encountered in log\n",
      "  \n"
     ]
    },
    {
     "data": {
      "text/plain": [
       "array([ True, False, False])"
      ]
     },
     "execution_count": 3,
     "metadata": {},
     "output_type": "execute_result"
    }
   ],
   "source": [
    "import numpy as np\n",
    "y = [np.log(-1.),1.,np.log(0)]\n",
    "np.isnan(y)"
   ]
  },
  {
   "cell_type": "code",
   "execution_count": null,
   "metadata": {},
   "outputs": [],
   "source": []
  }
 ],
 "metadata": {
  "kernelspec": {
   "display_name": "Python 2",
   "language": "python",
   "name": "python2"
  },
  "language_info": {
   "codemirror_mode": {
    "name": "ipython",
    "version": 2
   },
   "file_extension": ".py",
   "mimetype": "text/x-python",
   "name": "python",
   "nbconvert_exporter": "python",
   "pygments_lexer": "ipython2",
   "version": "2.7.12"
  }
 },
 "nbformat": 4,
 "nbformat_minor": 2
}
