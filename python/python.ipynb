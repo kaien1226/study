{
 "cells": [
  {
   "cell_type": "markdown",
   "metadata": {},
   "source": [
    "<img src=\"https://img-blog.csdn.net/2018092916042238?watermark/2/text/aHR0cHM6Ly9ibG9nLmNzZG4ubmV0L2thaWVuMTIyNg==/font/5a6L5L2T/fontsize/400/fill/I0JBQkFCMA==/dissolve/70\" style=\"width:1000px;height:500px;float:left\">"
   ]
  },
  {
   "cell_type": "markdown",
   "metadata": {},
   "source": [
    "<font color=#8552a1 size= 6>\n",
    "  定义一个list，里面的字符不重复\n",
    "</font>\n",
    "\n",
    "<hr class=\"docutils\" />\n",
    "\n",
    "<blockquote><p><font size= 4>\n",
    "set是一个无序且不重复的元素集合。\n",
    "<p>\n",
    "集合对象是一组无序排列的可哈希的值，集合成员可以做字典中的键。集合支持用in和not in操作符检查成员，由len()内建函数得到集合的基数(大小)， 用 for 循环迭代集合的成员。但是因为集合本身是无序的，不可以为集合创建索引或执行切片(slice)操作，也没有键(keys)可用来获取集合中元素的值。\n",
    "<p>\n",
    "set和dict一样，只是没有value，相当于dict的key集合，由于dict的key是不重复的，且key是不可变对象因此set也有如下特性：\n",
    "<p>\n",
    "   1.不重复\n",
    "<p>\n",
    "   2.元素为不可变对象\n",
    "<p>\n",
    "    </font>\n",
    "</blockquote>\n",
    "\n",
    "<table style=\"width:100%;border-collapse:collapse;background-color:white;\">\n",
    "    <tr style=\"background-color:rgba(30, 200,100, 0.8)\" >\n",
    "      <th> <font size= 5> Example  </font></th>\n",
    "    </tr>\n",
    "<table>"
   ]
  },
  {
   "cell_type": "code",
   "execution_count": 4,
   "metadata": {},
   "outputs": [
    {
     "name": "stdout",
     "output_type": "stream",
     "text": [
      "set(['b', 'r', 'u', 'o', 'n'])\n",
      "set(['a', 'b', 'd', 'f'])\n"
     ]
    }
   ],
   "source": [
    "x = set('runoob')\n",
    "print (x)\n",
    "s = set()\n",
    "s = {'a','b','d','b','f','f'}\n",
    "print (s)"
   ]
  },
  {
   "cell_type": "markdown",
   "metadata": {},
   "source": [
    "<font color=#8552a1 size= 6>\n",
    "  让list，里面的字符顺序颠倒\n",
    "</font>\n",
    "\n",
    "<blockquote><p><font size= 4>\n",
    "使用[::-1]。\n",
    "    </font>\n",
    "</blockquote>\n",
    "\n",
    "<hr class=\"docutils\" />\n",
    "\n",
    "<table style=\"width:100%;border-collapse:collapse;background-color:white;\">\n",
    "    <tr style=\"background-color:rgba(30, 200,100, 0.8)\" >\n",
    "      <th> <font size= 5> Example  </font></th>\n",
    "    </tr>\n",
    "<table>"
   ]
  },
  {
   "cell_type": "code",
   "execution_count": 6,
   "metadata": {},
   "outputs": [
    {
     "name": "stdout",
     "output_type": "stream",
     "text": [
      "[2, 5, 3, 8, 7, 4, 5, 3, 2, 1]\n",
      "[2, 3, 7, 5, 2]\n",
      "[[3, 1, 6], [4, 5, 6], [1, 2, 3]]\n"
     ]
    }
   ],
   "source": [
    "a = [1,2,3,5,4,7,8,3,5,2]\n",
    "print (a[::-1])\n",
    "print (a[::-2])\n",
    "b = [[1,2,3],[4,5,6],[3,1,6]]\n",
    "print (b[::-1])"
   ]
  },
  {
   "cell_type": "markdown",
   "metadata": {},
   "source": [
    "<font color=#8552a1 size= 6>\n",
    "  Python可迭代对象中的添加和删除\n",
    "</font>\n",
    "\n",
    "<hr class=\"docutils\" />\n",
    "\n",
    "<blockquote><p><font size= 4>\n",
    "<table style=\"width:100%;border-collapse:collapse;background-color:white;\">\n",
    "    <tr style=\"background-color:rgba(153, 204, 255, 0.8)\" >\n",
    "      <th> <font size= 4> 对于List:  </font></th>\n",
    "    </tr>\n",
    "<table>\n",
    "\n",
    "<p>\n",
    "classmates = ['Michael', 'Bob', 'Tracy']\n",
    "<p>\n",
    "classmates.append('Adam')    //添加在末尾，没有add()方法\n",
    "<p>\n",
    "classmates.insert(1, 'Jack') //在指定位置添加\n",
    "<p>\n",
    "classmates.pop(1)            //在知道位置删除，参数是索引\n",
    "<p>\n",
    "del classmate[1]             //删除第二个元素\n",
    "<p>\n",
    "classmates.remove('Bob')     //参数是元素，删除第一个与Bob值匹配的元素，之后又相同元素不会删除\n",
    "<p>\n",
    "<table style=\"width:100%;border-collapse:collapse;background-color:white;\">\n",
    "    <tr style=\"background-color:rgba(153, 204, 255, 0.8)\" >\n",
    "      <th> <font size= 4> 对于dict: </font></th>\n",
    "    </tr>\n",
    "<table>\n",
    "\n",
    "<p>\n",
    "d = {'a': 'A', 'b': 'B'}\n",
    "<p>\n",
    "del d['a']\n",
    "<p>\n",
    "d.pop('a')    //参数是key，没有remove()方法\n",
    "<p>\n",
    "d['c']='C';   //插入直接赋值即可\n",
    "<p>\n",
    "<table style=\"width:100%;border-collapse:collapse;background-color:white;\">\n",
    "    <tr style=\"background-color:rgba(153, 204, 255, 0.8)\" >\n",
    "      <th> <font size= 4> 对于set：</font></th>\n",
    "    </tr>\n",
    "<table>\n",
    "\n",
    "<p>\n",
    "s={1,2,3}       //set对象的创建也可以是s=set(iterable)\n",
    "<p>\n",
    "s.add(8)        //添加8到末尾   没有append()方法\n",
    "<p>\n",
    "s.remove(8)     //参数是元素，不是索引    删除8   \n",
    "<p>\n",
    "s.pop()         //删除最后一个元素\n",
    "<p>\n",
    "<table style=\"width:100%;border-collapse:collapse;background-color:white;\">\n",
    "    <tr style=\"background-color:rgba(153, 204, 255, 0.8)\" >\n",
    "      <th> <font size= 4> 对于tuple:</font></th>\n",
    "    </tr>\n",
    "<table>\n",
    "<p>\n",
    "由于tuple一旦初始化就不能修改，所以不能插入和删除\n",
    "<p>\n",
    "\n",
    "   </font>\n",
    "</blockquote>"
   ]
  },
  {
   "cell_type": "code",
   "execution_count": null,
   "metadata": {},
   "outputs": [],
   "source": []
  }
 ],
 "metadata": {
  "kernelspec": {
   "display_name": "Python 2",
   "language": "python",
   "name": "python2"
  },
  "language_info": {
   "codemirror_mode": {
    "name": "ipython",
    "version": 2
   },
   "file_extension": ".py",
   "mimetype": "text/x-python",
   "name": "python",
   "nbconvert_exporter": "python",
   "pygments_lexer": "ipython2",
   "version": "2.7.12"
  }
 },
 "nbformat": 4,
 "nbformat_minor": 2
}
